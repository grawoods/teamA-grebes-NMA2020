{
  "nbformat": 4,
  "nbformat_minor": 0,
  "metadata": {
    "colab": {
      "name": "Copy of shuffle_correlations.ipynb",
      "provenance": [],
      "authorship_tag": "ABX9TyPuy+IelohA4qk6/1jgnFzy",
      "include_colab_link": true
    },
    "kernelspec": {
      "name": "python3",
      "display_name": "Python 3"
    }
  },
  "cells": [
    {
      "cell_type": "markdown",
      "metadata": {
        "id": "view-in-github",
        "colab_type": "text"
      },
      "source": [
        "<a href=\"https://colab.research.google.com/github/ryanharvey1/teamA-grebes-NMA2020/blob/master/shuffle_correlations.ipynb\" target=\"_parent\"><img src=\"https://colab.research.google.com/assets/colab-badge.svg\" alt=\"Open In Colab\"/></a>"
      ]
    },
    {
      "cell_type": "markdown",
      "metadata": {
        "id": "pmVXC9gYLFp_",
        "colab_type": "text"
      },
      "source": [
        "# Reproduce Stringer et al. 2019, Fig. 1C with NMA subset data\n",
        "\n",
        "\n",
        "Pairwise correlations were computed after binning activity at 1.2 to 1.3 s (three or four frames respectively for 12 and 10 plane recordings; 1.2-s bins for Neuropixels recordings). To compute shuffled correlations (Fig. 1C), we circularly shifted each neuron’s activity in time by a random number of bins (at least ±1000) and correlated all the shifted traces with all the original traces."
      ]
    },
    {
      "cell_type": "code",
      "metadata": {
        "id": "0nDpv07iLmYi",
        "colab_type": "code",
        "colab": {}
      },
      "source": [
        "import numpy as np\n",
        "import random as random\n",
        "from matplotlib import rcParams \n",
        "from matplotlib import pyplot as plt\n",
        "rcParams['figure.figsize'] = [20, 4]\n",
        "rcParams['font.size'] =15\n",
        "rcParams['axes.spines.top'] = False\n",
        "rcParams['axes.spines.right'] = False\n",
        "rcParams['figure.autolayout'] = True\n",
        "%config InlineBackend.figure_format = 'retina'"
      ],
      "execution_count": 1,
      "outputs": []
    },
    {
      "cell_type": "markdown",
      "metadata": {
        "id": "kdtQphJwMM4W",
        "colab_type": "text"
      },
      "source": [
        "## Data retrieval"
      ]
    },
    {
      "cell_type": "code",
      "metadata": {
        "id": "CqRWnes3K9qg",
        "colab_type": "code",
        "colab": {}
      },
      "source": [
        "import os, requests\n",
        "\n",
        "fname = \"stringer_spontaneous.npy\"\n",
        "url = \"https://osf.io/dpqaj/download\"\n",
        "\n",
        "if not os.path.isfile(fname):\n",
        "  try:\n",
        "    r = requests.get(url)\n",
        "  except requests.ConnectionError:\n",
        "    print(\"!!! Failed to download data !!!\")\n",
        "  else:\n",
        "    if r.status_code != requests.codes.ok:\n",
        "      print(\"!!! Failed to download data !!!\")\n",
        "    else:\n",
        "      with open(fname, \"wb\") as fid:\n",
        "        fid.write(r.content)"
      ],
      "execution_count": 2,
      "outputs": []
    },
    {
      "cell_type": "markdown",
      "metadata": {
        "id": "citrVl4CMQNj",
        "colab_type": "text"
      },
      "source": [
        "## Data loading"
      ]
    },
    {
      "cell_type": "code",
      "metadata": {
        "id": "-M40vlsoLfN0",
        "colab_type": "code",
        "colab": {
          "base_uri": "https://localhost:8080/",
          "height": 34
        },
        "outputId": "21087ea6-ef97-4e94-df8c-f28dad516f1e"
      },
      "source": [
        "import numpy as np\n",
        "dat = np.load('stringer_spontaneous.npy', allow_pickle=True).item()\n",
        "print(dat.keys())"
      ],
      "execution_count": 3,
      "outputs": [
        {
          "output_type": "stream",
          "text": [
            "dict_keys(['sresp', 'run', 'beh_svd_time', 'beh_svd_mask', 'stat', 'pupilArea', 'pupilCOM', 'xyz'])\n"
          ],
          "name": "stdout"
        }
      ]
    },
    {
      "cell_type": "markdown",
      "metadata": {
        "id": "AL_j3DVxMUXg",
        "colab_type": "text"
      },
      "source": [
        "## Shuffle each cell 1 time in a random amount from 1000 to the max number of time bins"
      ]
    },
    {
      "cell_type": "code",
      "metadata": {
        "id": "qnWa65-rMAj7",
        "colab_type": "code",
        "colab": {}
      },
      "source": [
        "X = dat['sresp'].copy()\n",
        "cells,time = dat['sresp'].shape\n",
        "for i in range(cells):\n",
        "  rand_bins = np.random.randint(1000, time) * [-1,1][random.randrange(2)]\n",
        "  X[i,:] = np.roll(X[i,:],rand_bins)"
      ],
      "execution_count": 4,
      "outputs": []
    },
    {
      "cell_type": "markdown",
      "metadata": {
        "id": "xj7_2sGEMlD2",
        "colab_type": "text"
      },
      "source": [
        "## get correlations from original and shuffled"
      ]
    },
    {
      "cell_type": "code",
      "metadata": {
        "id": "Pf9cZ5uXMCnt",
        "colab_type": "code",
        "colab": {}
      },
      "source": [
        "cor = np.corrcoef(dat['sresp'])\n",
        "cor_shuff = np.corrcoef(X)"
      ],
      "execution_count": 5,
      "outputs": []
    },
    {
      "cell_type": "markdown",
      "metadata": {
        "id": "co1-vUHKMul3",
        "colab_type": "text"
      },
      "source": [
        "## Only keep lower triangle of correlation matrix"
      ]
    },
    {
      "cell_type": "code",
      "metadata": {
        "id": "NK0x1AnQMElj",
        "colab_type": "code",
        "colab": {}
      },
      "source": [
        "il1 = np.tril_indices(len(cor),-1)\n",
        "\n",
        "cor_lower = cor[il1]\n",
        "cor_lower_shuff = cor_shuff[il1]"
      ],
      "execution_count": 6,
      "outputs": []
    },
    {
      "cell_type": "markdown",
      "metadata": {
        "id": "DXBhTdAtM3pc",
        "colab_type": "text"
      },
      "source": [
        "## Bin data from -0.3 to 0.75 and plot"
      ]
    },
    {
      "cell_type": "code",
      "metadata": {
        "id": "qLnykbWfMGj5",
        "colab_type": "code",
        "colab": {
          "base_uri": "https://localhost:8080/",
          "height": 297
        },
        "outputId": "b815ba40-1adc-4177-c644-a1df0e1a042f"
      },
      "source": [
        "bins = np.arange(-0.3,0.75,0.001)\n",
        "hist, edges = np.histogram(cor_lower,bins, density=False)\n",
        "hist_2, edges = np.histogram(cor_lower_shuff,bins, density=False)\n",
        "\n",
        "hist = hist.astype(float)\n",
        "hist[hist==0] = np.nan\n",
        "hist_2 =hist_2.astype(float)\n",
        "hist_2[hist_2==0] = np.nan\n",
        "\n",
        "plt.figure(figsize=(4,4))\n",
        "plt.plot(bins[0:-1] + (0.001 / 2), np.log10(hist),color='orange',linewidth=5)\n",
        "plt.plot(bins[0:-1] + (0.001 / 2), np.log10(hist_2),color='grey',linewidth=5)\n",
        "plt.xlabel('correlation')\n",
        "plt.ylabel('# of pairs (log10 scale)')\n",
        "plt.show()"
      ],
      "execution_count": 7,
      "outputs": [
        {
          "output_type": "display_data",
          "data": {
            "image/png": "[encoded data removed]",
            "text/plain": [
              "<Figure size 288x288 with 1 Axes>"
            ]
          },
          "metadata": {
            "tags": [],
            "image/png": {
              "width": 280,
              "height": 280
            },
            "needs_background": "light"
          }
        }
      ]
    }
  ]
}