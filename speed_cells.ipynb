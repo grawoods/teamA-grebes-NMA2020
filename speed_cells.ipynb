{
  "nbformat": 4,
  "nbformat_minor": 0,
  "metadata": {
    "colab": {
      "name": "speed_cells.ipynb",
      "provenance": [],
      "authorship_tag": "ABX9TyOcHfQTQ1zxtS12K6Two4iK",
      "include_colab_link": true
    },
    "kernelspec": {
      "name": "python3",
      "display_name": "Python 3"
    }
  },
  "cells": [
    {
      "cell_type": "markdown",
      "metadata": {
        "id": "view-in-github",
        "colab_type": "text"
      },
      "source": [
        "<a href=\"https://colab.research.google.com/github/ryanharvey1/teamA-grebes-NMA2020/blob/master/speed_cells.ipynb\" target=\"_parent\"><img src=\"https://colab.research.google.com/assets/colab-badge.svg\" alt=\"Open In Colab\"/></a>"
      ]
    },
    {
      "cell_type": "markdown",
      "metadata": {
        "id": "sh_PJ3B4XvkO",
        "colab_type": "text"
      },
      "source": [
        "# Find running calcium response correlations"
      ]
    },
    {
      "cell_type": "code",
      "metadata": {
        "id": "zqBS03_HNLg-",
        "colab_type": "code",
        "colab": {}
      },
      "source": [
        "import matplotlib.pyplot as plt\n",
        "import sys\n"
      ],
      "execution_count": 51,
      "outputs": []
    },
    {
      "cell_type": "markdown",
      "metadata": {
        "id": "gafmFbT_X8aT",
        "colab_type": "text"
      },
      "source": [
        "download data\n",
        "\n",
        "TODO: make general for wider dataset"
      ]
    },
    {
      "cell_type": "code",
      "metadata": {
        "id": "V5G25Vq7Kb2C",
        "colab_type": "code",
        "colab": {
          "base_uri": "https://localhost:8080/",
          "height": 34
        },
        "outputId": "833df6e8-25e7-4dd8-8c12-3d17e7a935b0"
      },
      "source": [
        "import os, requests\n",
        "\n",
        "fname = \"stringer_spontaneous.npy\"\n",
        "url = \"https://osf.io/dpqaj/download\"\n",
        "\n",
        "if not os.path.isfile(fname):\n",
        "  try:\n",
        "    r = requests.get(url)\n",
        "  except requests.ConnectionError:\n",
        "    print(\"!!! Failed to download data !!!\")\n",
        "  else:\n",
        "    if r.status_code != requests.codes.ok:\n",
        "      print(\"!!! Failed to download data !!!\")\n",
        "    else:\n",
        "      with open(fname, \"wb\") as fid:\n",
        "        fid.write(r.content)\n",
        "\n",
        "import numpy as np\n",
        "dat = np.load('stringer_spontaneous.npy', allow_pickle=True).item()\n",
        "print(dat.keys())        "
      ],
      "execution_count": 1,
      "outputs": [
        {
          "output_type": "stream",
          "text": [
            "dict_keys(['sresp', 'run', 'beh_svd_time', 'beh_svd_mask', 'stat', 'pupilArea', 'pupilCOM', 'xyz'])\n"
          ],
          "name": "stdout"
        }
      ]
    },
    {
      "cell_type": "markdown",
      "metadata": {
        "id": "741q7jrGYD_P",
        "colab_type": "text"
      },
      "source": [
        "get correlation"
      ]
    },
    {
      "cell_type": "code",
      "metadata": {
        "id": "u9yszVftLcqZ",
        "colab_type": "code",
        "colab": {}
      },
      "source": [
        "def compute_speed_mod(speed,fr):\n",
        "\n",
        "  # get speed score\n",
        "  speed_score = np.corrcoef(speed,fr)[0,1]\n",
        "\n",
        "  return speed_score"
      ],
      "execution_count": 44,
      "outputs": []
    },
    {
      "cell_type": "markdown",
      "metadata": {
        "id": "fHSI8cIXYG64",
        "colab_type": "text"
      },
      "source": [
        "get shuffled pvalue"
      ]
    },
    {
      "cell_type": "code",
      "metadata": {
        "id": "RkMj7tlTO1AI",
        "colab_type": "code",
        "colab": {}
      },
      "source": [
        "def shuffle_speed_mod(speed_score,speed,fr,shuffn=1000):\n",
        "\n",
        "  # Each cell’s fr vector was shuffled by a random interval from ~20 s before its true\n",
        "  a = -20;\n",
        "  b = 20; \n",
        "  r = np.random.random_integers(a,b,shuffn)\n",
        "\n",
        "  speed_score_shuff = []\n",
        "  for i in range(len(r)):\n",
        "    sc = compute_speed_mod(speed,np.roll(fr,r[i]))\n",
        "    speed_score_shuff.append(sc)\n",
        " \n",
        "  # DOI: 10.2202/1544-6115.1585\n",
        "  shuff_pvalue = (sum(np.abs(speed_score_shuff) > np.abs(speed_score)) + 1) /(len(speed_score_shuff) + 1);\n",
        "\n",
        "  return shuff_pvalue"
      ],
      "execution_count": 45,
      "outputs": []
    },
    {
      "cell_type": "markdown",
      "metadata": {
        "id": "6-w_M1N_YLtk",
        "colab_type": "text"
      },
      "source": [
        "run though every cell"
      ]
    },
    {
      "cell_type": "code",
      "metadata": {
        "id": "EyNhhUIwRFIR",
        "colab_type": "code",
        "colab": {
          "base_uri": "https://localhost:8080/",
          "height": 68
        },
        "outputId": "c63f33b4-31cc-40fa-91f1-b31ebfa80de1"
      },
      "source": [
        "cells,time = dat['sresp'].shape\n",
        "\n",
        "speed_score = []\n",
        "shuff_pvalue = []\n",
        "for i in range(cells):\n",
        "  r = compute_speed_mod(np.squeeze(dat['run']),dat['sresp'][i,:])\n",
        "  speed_score.append(r)\n",
        "  shuff_pvalue.append(shuffle_speed_mod(r,np.squeeze(dat['run']),dat['sresp'][i,:]))\n",
        "  sys.stdout.write('\\rcurrent cell: %d' %i)\n",
        "  sys.stdout.flush()\n",
        "\n",
        "# print(speed_score)\n",
        "# print(shuff_pvalue)"
      ],
      "execution_count": null,
      "outputs": [
        {
          "output_type": "stream",
          "text": [
            "/usr/local/lib/python3.6/dist-packages/ipykernel_launcher.py:6: DeprecationWarning: This function is deprecated. Please call randint(-20, 20 + 1) instead\n",
            "  \n"
          ],
          "name": "stderr"
        },
        {
          "output_type": "stream",
          "text": [
            "current cell: 449"
          ],
          "name": "stdout"
        }
      ]
    },
    {
      "cell_type": "code",
      "metadata": {
        "id": "d6JrlBiPXPE2",
        "colab_type": "code",
        "colab": {
          "base_uri": "https://localhost:8080/",
          "height": 630
        },
        "outputId": "d93f0d4c-e668-4876-bb7b-66058ac2aabd"
      },
      "source": [
        "print(speed_score)\n",
        "plt.scatter(shuff_pvalue,speed_score)"
      ],
      "execution_count": 57,
      "outputs": [
        {
          "output_type": "stream",
          "text": [
            "[0.054916915081914916, -0.011550959079188714, -0.011674711590923127, 0.0460781905924824, 0.04810677195788018, -0.036850124057974366, -0.1406466767211703, 0.012253475620826657, -0.021389524916357296, -0.008724068178057336, 0.4254731289524843, -0.0767475793943968, -0.019145789458833752, -0.003920746235234735, 0.0173947565883392, 0.004796183428119077, -0.0325664350714746, -0.06834080876398367, 0.09541973772816739, 0.04590993401390704, 0.14394490447252742, -0.015342330761638621, 9.929147472811085e-05, -0.03199263946232978, -0.0035154479207517644, 0.03931525062423476, -0.017996095494196784, -0.015032058027464823, -0.013785601097830853, 0.07137433722638584, 0.2820502264063018, 0.08029088212465024, -0.06701839221563224, -0.0023612659434514905, -0.08027861921757275, -0.002382709080226189, -0.009592923979357307, -0.014143726205426208, -0.005657402929201755, -0.006979124226807693, 0.018966260776611024, -0.010184931784935142, -0.029212845256063016, 0.048480710767040344, -0.046906477441782335, 0.006029632486113514, -0.008490983410151753, -0.024197737813733747, -0.020788269480893774, -0.015487944607603122, 0.006338136439518921, -0.01338627307078503, -0.029131530526851853, -0.03988700535073541, -0.010430276408505659, -0.028406012787046544, -0.010289015496750452, -0.0576349266907257, 0.06374270042654882, -0.03756921015276085, -0.013038631122268256, 0.017732916552299496, -0.00562931310475815, -0.024641362057009814, 0.005387381504350821, -0.02258060894384067, -0.003051278441036511, 0.3989098608781798, -0.07719983892946682, -0.004749233017285604, -0.003289360177170985, -0.04514056342462301, -0.018493571905735563, -0.026753988167246952, -0.04979365334551155, 0.009239655525951905, -0.02912678997980972, 0.05133145303970226, -0.0748731488188333, 0.14815938831424813, -0.025389272952862474, -0.03695715015249786, -0.029663173887851974, 0.051313630426938324, -0.053073156400854936, -0.05693008350913799, -0.018421590504745063, 0.0005599126805431117, -0.013805039793073485, -0.0278141967413017, 0.1831001368747581, -0.03192033651488974, -0.0019555149840785433, -0.05092333406198298, 0.09145592802606893, -0.023804336481302153, -0.02484442903635614, -0.028800659268060445, 0.05030555475549147, -0.03163197425996254, -0.026035957427023505, -0.053501590741375865, -0.008038316632225947, -0.05407711151944356, -0.04863269740105063, -0.024008340427959754, -0.017018950611739317, -0.029653985567466457, 0.021841755639368375, -0.08533891528124715, -0.012344438066314845, -0.05413142219086087, -0.09540482627886314, 0.05002108365368051, -0.018109090139118766, -0.01841232254154201, -0.03297903961491943, -0.02491617240574596, -0.025861857350681593, -0.00429622165636933, -0.029980870511116937, -0.05349072319127023, 0.10450774152709215, -0.024627910300084013, -0.0420076007848239, -0.03195266151368196, -0.013068604641001617, 0.05952106249916148, 0.10737738597242302, -0.0361767737964272, -0.039239817436201446, 0.1915782290297124, -0.023724556206444664, 0.0072779175269443224, -0.049277358910356034, -0.03934364874860017, -0.005269554437056744, -0.016270901987738666, -0.010978179881057315, -0.01580382403451059, -0.04022202042748581, -0.04763213607357697, -0.05872843615132101, -0.021304563877983917, -0.05575630778510084, -0.05341132915446551, -0.007546844051986838, -0.032036669332429504, -0.03788113673019768, -0.04847538847780489, -0.03582117874275476, -0.046581019431719245, 0.03929341561321217, -0.05651344486289297, -0.02812798453833207, -0.014784343201674254, -0.025789468628619326, -0.033964913227321876, 0.005144547460415275, -0.016917509917796072, 0.11411330193953667, -0.06960537249994342, 0.017190348123605165, 0.11478054419568169, -0.012929453273439652, -0.02125102679698017, 0.25846774039285597, -0.026922299574189634, -0.04111984660750072, -0.014328205300553993, -0.03645316733894067, 0.010131053576213493, -0.05665402056555215, 0.21916102063777101, -0.030859856087178214, -0.008130401477598035, -0.017722893606364042, -0.0342794560027877, -0.053139475978899106, -0.06460990977963493, 0.10116409621847976, -0.018220531388439258, -0.022822722550215238, -0.027559537125285877, -0.05866892843772431, 0.11948689699261748, -0.02661530698262947, -0.013402348039806932, -0.025024056615881748, 0.10743911949777776, 0.5003831181383464, -0.008517201309350802, -0.025931387637704147, -0.011355715694614816, -0.007540634179786495, -0.013121758449579479, 0.3373437423610577, -0.0413766804046927, -0.01738577091347722, 0.016800361584034133, -0.015405953830919418, 0.04323839794117996, -0.023027002554432137, 0.0058837697566700275, 0.1862694829531396, 0.18392635414889044, -0.04037033983350613, -0.01850284555009109, -0.014507261930450363, -0.021583378570879778, -0.007126953692629572, -0.03728521397360535, -0.029597927615565536, -0.01868201072254659, -0.03480297398440163, -0.014321307521503894, -0.05180333461570407, 0.056812346565252, -0.04834771574399227, 0.030167513719149625, -0.04479850808148259, -0.017091999004125048, -0.013252215463439193, -0.061756171015357776, -0.010132337301060676, -0.015449639685449686, -0.026459231723369527, -0.033354321172256514, -0.06148900513912526, 0.061955335774739155, -0.032489956793517134, 0.0008795861709975438, 0.0410165114114667, -0.011219583731957746, -0.04031974916265357, -0.02770156037177848, -0.08513692673901231, 0.0927091209758169, -0.021411107124725815, -0.007894355992289638, 0.13579457168647077, -0.011370478661600085, -0.023828460880364194, -0.019427002274170563, 0.1358926350887204, 0.002663564135181256, -0.028198611691010463, 0.636405627798846, -0.0038359221709367832, -0.006945484539499671, 0.07046701636351743, -0.00513752095176849, -0.02347541601840829, 0.0036689049558302454, 0.002577800173172476, -0.022864863607008568, -0.023293953234011105, -0.011514230459055377, -0.019271036109029797, -0.015447906160700851, -0.0361695539572981, -0.03432001286955693, -0.027078378252796402, 0.00035964797644389367, -0.014764408162835927, 0.033176587229911424, -0.025449751388493626, -0.04207424543863927, -0.1576808857490663, 0.10462717820319839, -0.010560155170340021, -0.02524356574881659, -0.0041080492054687955, -0.01174294798301856, -0.036911696680694085, -0.03002509684781254, -0.004468535535101977, -0.015265737701790301, 0.23064354525501682, 0.006995280440934579, 0.08462382473210518, -0.05490920522785938, -0.019197546162277864, 0.010354758863404517, -0.041842698624502586, 0.18272604861632502, 0.29183211941419135, 0.046825153350302726, -0.038435455061828334, 0.04526581401057299, -0.024832696349981257, 0.005480212230077047, 0.006323696984153491, 0.04137368469523774, 0.0029668551271626814, -0.01635526526556596, 0.029552948675413193, 0.02677655797138274, 0.03353061791401478, 0.01799105328016613, -0.017007385797380863, -0.01704216494781, 0.011480773705332514, -0.006011333796597802, -0.05553159483508151, 0.2239834938726809, -0.029476700651152928, -0.030749885517159355, 0.014072368937590016, -0.004693449110340534, -0.030626961990089154, -0.0327565333056368, -0.010768908736520361, -0.009740285250727055, 0.015489559948494873, 0.015135847331576363, -0.0333326248050074, -0.03505968572994418, -0.04463543031202469, -0.05451794002507151, -0.02791206226284507, -0.03411238012116043, -0.03502110330980024, -0.031169472272106317, 0.10800361273193884, 0.008275835101415701, -0.03968050440602002, -0.01612559189772925, 0.129780542867866, 0.293744531927076, -0.2075069728303671, -0.026866412652020343, 0.026306810211990377, -0.011518956596831978, -0.01762180829701622, 0.10883419700930597, -0.014822968190571995, -0.07682268808749601, -0.012555713864883227, -0.020785214502143795, 0.08928327709836952, -0.003248288648540774, -0.07390325305267542, 0.00032896569728731276, -0.04773035532986054, -0.09560593097458674, -0.015256196395647341, 0.04081264755407897, -0.010040356504062943, -0.03330899404596434, -0.02401939871163066, 0.13419637299845796, -0.05956725249963675, -0.005118300539370094, -0.0028975551636886035, -0.016731613953381987, -0.01826383498568542, -0.005248285852699765, 0.28112098819839576, -0.03540818864536492, -0.04580290188638172, 0.07391501323109353, -0.024209888143353325, -0.014740736440096498, 0.021790112669569546, -0.009110464773404485, -0.0458850649076076, -0.03512684694184887, 0.11517819746683763, 0.19093533126686285, 0.0075880579173085464, -0.04688974197844824, -0.012354041579070198, -0.021918610857664927]\n"
          ],
          "name": "stdout"
        },
        {
          "output_type": "error",
          "ename": "ValueError",
          "evalue": "ignored",
          "traceback": [
            "\u001b[0;31m---------------------------------------------------------------------------\u001b[0m",
            "\u001b[0;31mValueError\u001b[0m                                Traceback (most recent call last)",
            "\u001b[0;32m<ipython-input-57-446a813919b3>\u001b[0m in \u001b[0;36m<module>\u001b[0;34m()\u001b[0m\n\u001b[1;32m      1\u001b[0m \u001b[0mprint\u001b[0m\u001b[0;34m(\u001b[0m\u001b[0mspeed_score\u001b[0m\u001b[0;34m)\u001b[0m\u001b[0;34m\u001b[0m\u001b[0;34m\u001b[0m\u001b[0m\n\u001b[0;32m----> 2\u001b[0;31m \u001b[0mplt\u001b[0m\u001b[0;34m.\u001b[0m\u001b[0mscatter\u001b[0m\u001b[0;34m(\u001b[0m\u001b[0mshuff_pvalue\u001b[0m\u001b[0;34m,\u001b[0m\u001b[0mspeed_score\u001b[0m\u001b[0;34m)\u001b[0m\u001b[0;34m\u001b[0m\u001b[0;34m\u001b[0m\u001b[0m\n\u001b[0m",
            "\u001b[0;32m/usr/local/lib/python3.6/dist-packages/matplotlib/pyplot.py\u001b[0m in \u001b[0;36mscatter\u001b[0;34m(x, y, s, c, marker, cmap, norm, vmin, vmax, alpha, linewidths, verts, edgecolors, plotnonfinite, data, **kwargs)\u001b[0m\n\u001b[1;32m   2814\u001b[0m         \u001b[0mverts\u001b[0m\u001b[0;34m=\u001b[0m\u001b[0mverts\u001b[0m\u001b[0;34m,\u001b[0m \u001b[0medgecolors\u001b[0m\u001b[0;34m=\u001b[0m\u001b[0medgecolors\u001b[0m\u001b[0;34m,\u001b[0m\u001b[0;34m\u001b[0m\u001b[0;34m\u001b[0m\u001b[0m\n\u001b[1;32m   2815\u001b[0m         plotnonfinite=plotnonfinite, **({\"data\": data} if data is not\n\u001b[0;32m-> 2816\u001b[0;31m         None else {}), **kwargs)\n\u001b[0m\u001b[1;32m   2817\u001b[0m     \u001b[0msci\u001b[0m\u001b[0;34m(\u001b[0m\u001b[0m__ret\u001b[0m\u001b[0;34m)\u001b[0m\u001b[0;34m\u001b[0m\u001b[0;34m\u001b[0m\u001b[0m\n\u001b[1;32m   2818\u001b[0m     \u001b[0;32mreturn\u001b[0m \u001b[0m__ret\u001b[0m\u001b[0;34m\u001b[0m\u001b[0;34m\u001b[0m\u001b[0m\n",
            "\u001b[0;32m/usr/local/lib/python3.6/dist-packages/matplotlib/__init__.py\u001b[0m in \u001b[0;36minner\u001b[0;34m(ax, data, *args, **kwargs)\u001b[0m\n\u001b[1;32m   1563\u001b[0m     \u001b[0;32mdef\u001b[0m \u001b[0minner\u001b[0m\u001b[0;34m(\u001b[0m\u001b[0max\u001b[0m\u001b[0;34m,\u001b[0m \u001b[0;34m*\u001b[0m\u001b[0margs\u001b[0m\u001b[0;34m,\u001b[0m \u001b[0mdata\u001b[0m\u001b[0;34m=\u001b[0m\u001b[0;32mNone\u001b[0m\u001b[0;34m,\u001b[0m \u001b[0;34m**\u001b[0m\u001b[0mkwargs\u001b[0m\u001b[0;34m)\u001b[0m\u001b[0;34m:\u001b[0m\u001b[0;34m\u001b[0m\u001b[0;34m\u001b[0m\u001b[0m\n\u001b[1;32m   1564\u001b[0m         \u001b[0;32mif\u001b[0m \u001b[0mdata\u001b[0m \u001b[0;32mis\u001b[0m \u001b[0;32mNone\u001b[0m\u001b[0;34m:\u001b[0m\u001b[0;34m\u001b[0m\u001b[0;34m\u001b[0m\u001b[0m\n\u001b[0;32m-> 1565\u001b[0;31m             \u001b[0;32mreturn\u001b[0m \u001b[0mfunc\u001b[0m\u001b[0;34m(\u001b[0m\u001b[0max\u001b[0m\u001b[0;34m,\u001b[0m \u001b[0;34m*\u001b[0m\u001b[0mmap\u001b[0m\u001b[0;34m(\u001b[0m\u001b[0msanitize_sequence\u001b[0m\u001b[0;34m,\u001b[0m \u001b[0margs\u001b[0m\u001b[0;34m)\u001b[0m\u001b[0;34m,\u001b[0m \u001b[0;34m**\u001b[0m\u001b[0mkwargs\u001b[0m\u001b[0;34m)\u001b[0m\u001b[0;34m\u001b[0m\u001b[0;34m\u001b[0m\u001b[0m\n\u001b[0m\u001b[1;32m   1566\u001b[0m \u001b[0;34m\u001b[0m\u001b[0m\n\u001b[1;32m   1567\u001b[0m         \u001b[0mbound\u001b[0m \u001b[0;34m=\u001b[0m \u001b[0mnew_sig\u001b[0m\u001b[0;34m.\u001b[0m\u001b[0mbind\u001b[0m\u001b[0;34m(\u001b[0m\u001b[0max\u001b[0m\u001b[0;34m,\u001b[0m \u001b[0;34m*\u001b[0m\u001b[0margs\u001b[0m\u001b[0;34m,\u001b[0m \u001b[0;34m**\u001b[0m\u001b[0mkwargs\u001b[0m\u001b[0;34m)\u001b[0m\u001b[0;34m\u001b[0m\u001b[0;34m\u001b[0m\u001b[0m\n",
            "\u001b[0;32m/usr/local/lib/python3.6/dist-packages/matplotlib/cbook/deprecation.py\u001b[0m in \u001b[0;36mwrapper\u001b[0;34m(*args, **kwargs)\u001b[0m\n\u001b[1;32m    356\u001b[0m                 \u001b[0;34mf\"%(removal)s.  If any parameter follows {name!r}, they \"\u001b[0m\u001b[0;34m\u001b[0m\u001b[0;34m\u001b[0m\u001b[0m\n\u001b[1;32m    357\u001b[0m                 f\"should be pass as keyword, not positionally.\")\n\u001b[0;32m--> 358\u001b[0;31m         \u001b[0;32mreturn\u001b[0m \u001b[0mfunc\u001b[0m\u001b[0;34m(\u001b[0m\u001b[0;34m*\u001b[0m\u001b[0margs\u001b[0m\u001b[0;34m,\u001b[0m \u001b[0;34m**\u001b[0m\u001b[0mkwargs\u001b[0m\u001b[0;34m)\u001b[0m\u001b[0;34m\u001b[0m\u001b[0;34m\u001b[0m\u001b[0m\n\u001b[0m\u001b[1;32m    359\u001b[0m \u001b[0;34m\u001b[0m\u001b[0m\n\u001b[1;32m    360\u001b[0m     \u001b[0;32mreturn\u001b[0m \u001b[0mwrapper\u001b[0m\u001b[0;34m\u001b[0m\u001b[0;34m\u001b[0m\u001b[0m\n",
            "\u001b[0;32m/usr/local/lib/python3.6/dist-packages/matplotlib/axes/_axes.py\u001b[0m in \u001b[0;36mscatter\u001b[0;34m(self, x, y, s, c, marker, cmap, norm, vmin, vmax, alpha, linewidths, verts, edgecolors, plotnonfinite, **kwargs)\u001b[0m\n\u001b[1;32m   4389\u001b[0m         \u001b[0my\u001b[0m \u001b[0;34m=\u001b[0m \u001b[0mnp\u001b[0m\u001b[0;34m.\u001b[0m\u001b[0mma\u001b[0m\u001b[0;34m.\u001b[0m\u001b[0mravel\u001b[0m\u001b[0;34m(\u001b[0m\u001b[0my\u001b[0m\u001b[0;34m)\u001b[0m\u001b[0;34m\u001b[0m\u001b[0;34m\u001b[0m\u001b[0m\n\u001b[1;32m   4390\u001b[0m         \u001b[0;32mif\u001b[0m \u001b[0mx\u001b[0m\u001b[0;34m.\u001b[0m\u001b[0msize\u001b[0m \u001b[0;34m!=\u001b[0m \u001b[0my\u001b[0m\u001b[0;34m.\u001b[0m\u001b[0msize\u001b[0m\u001b[0;34m:\u001b[0m\u001b[0;34m\u001b[0m\u001b[0;34m\u001b[0m\u001b[0m\n\u001b[0;32m-> 4391\u001b[0;31m             \u001b[0;32mraise\u001b[0m \u001b[0mValueError\u001b[0m\u001b[0;34m(\u001b[0m\u001b[0;34m\"x and y must be the same size\"\u001b[0m\u001b[0;34m)\u001b[0m\u001b[0;34m\u001b[0m\u001b[0;34m\u001b[0m\u001b[0m\n\u001b[0m\u001b[1;32m   4392\u001b[0m \u001b[0;34m\u001b[0m\u001b[0m\n\u001b[1;32m   4393\u001b[0m         \u001b[0;32mif\u001b[0m \u001b[0ms\u001b[0m \u001b[0;32mis\u001b[0m \u001b[0;32mNone\u001b[0m\u001b[0;34m:\u001b[0m\u001b[0;34m\u001b[0m\u001b[0;34m\u001b[0m\u001b[0m\n",
            "\u001b[0;31mValueError\u001b[0m: x and y must be the same size"
          ]
        },
        {
          "output_type": "display_data",
          "data": {
            "image/png": "[encoded data removed]",
            "text/plain": [
              "<Figure size 432x288 with 1 Axes>"
            ]
          },
          "metadata": {
            "tags": [],
            "needs_background": "light"
          }
        }
      ]
    }
  ]
}