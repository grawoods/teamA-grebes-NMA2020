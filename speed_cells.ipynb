{
  "nbformat": 4,
  "nbformat_minor": 0,
  "metadata": {
    "colab": {
      "name": "speed_cells.ipynb",
      "provenance": [],
      "toc_visible": true,
      "mount_file_id": "1SCZkqK1eiBD32KiMumfeJLZaRlukHzaY",
      "authorship_tag": "ABX9TyOUooGPTD2Xtn+fx5Y8HS9Q",
      "include_colab_link": true
    },
    "kernelspec": {
      "name": "python3",
      "display_name": "Python 3"
    }
  },
  "cells": [
    {
      "cell_type": "markdown",
      "metadata": {
        "id": "view-in-github",
        "colab_type": "text"
      },
      "source": [
        "<a href=\"https://colab.research.google.com/github/ryanharvey1/teamA-grebes-NMA2020/blob/master/speed_cells.ipynb\" target=\"_parent\"><img src=\"https://colab.research.google.com/assets/colab-badge.svg\" alt=\"Open In Colab\"/></a>"
      ]
    },
    {
      "cell_type": "markdown",
      "metadata": {
        "id": "sh_PJ3B4XvkO",
        "colab_type": "text"
      },
      "source": [
        "# Find running calcium response correlations\n",
        "\n",
        "This script finds significant linear relationships between calcium response and running speed"
      ]
    },
    {
      "cell_type": "code",
      "metadata": {
        "id": "zqBS03_HNLg-",
        "colab_type": "code",
        "colab": {}
      },
      "source": [
        "import matplotlib.pyplot as plt\n",
        "import sys"
      ],
      "execution_count": 51,
      "outputs": []
    },
    {
      "cell_type": "markdown",
      "metadata": {
        "id": "gafmFbT_X8aT",
        "colab_type": "text"
      },
      "source": [
        "download data\n",
        "\n",
        "TODO: make general for wider dataset"
      ]
    },
    {
      "cell_type": "code",
      "metadata": {
        "id": "V5G25Vq7Kb2C",
        "colab_type": "code",
        "colab": {
          "base_uri": "https://localhost:8080/",
          "height": 34
        },
        "outputId": "833df6e8-25e7-4dd8-8c12-3d17e7a935b0"
      },
      "source": [
        "import os, requests\n",
        "\n",
        "fname = \"stringer_spontaneous.npy\"\n",
        "url = \"https://osf.io/dpqaj/download\"\n",
        "\n",
        "if not os.path.isfile(fname):\n",
        "  try:\n",
        "    r = requests.get(url)\n",
        "  except requests.ConnectionError:\n",
        "    print(\"!!! Failed to download data !!!\")\n",
        "  else:\n",
        "    if r.status_code != requests.codes.ok:\n",
        "      print(\"!!! Failed to download data !!!\")\n",
        "    else:\n",
        "      with open(fname, \"wb\") as fid:\n",
        "        fid.write(r.content)\n",
        "\n",
        "import numpy as np\n",
        "dat = np.load('stringer_spontaneous.npy', allow_pickle=True).item()\n",
        "print(dat.keys())        "
      ],
      "execution_count": 1,
      "outputs": [
        {
          "output_type": "stream",
          "text": [
            "dict_keys(['sresp', 'run', 'beh_svd_time', 'beh_svd_mask', 'stat', 'pupilArea', 'pupilCOM', 'xyz'])\n"
          ],
          "name": "stdout"
        }
      ]
    },
    {
      "cell_type": "markdown",
      "metadata": {
        "id": "741q7jrGYD_P",
        "colab_type": "text"
      },
      "source": [
        "get correlation"
      ]
    },
    {
      "cell_type": "code",
      "metadata": {
        "id": "u9yszVftLcqZ",
        "colab_type": "code",
        "colab": {}
      },
      "source": [
        "def compute_speed_mod(speed,fr):\n",
        "\n",
        "  # get speed score\n",
        "  speed_score = np.corrcoef(speed,fr)[0,1]\n",
        "\n",
        "  return speed_score"
      ],
      "execution_count": 44,
      "outputs": []
    },
    {
      "cell_type": "markdown",
      "metadata": {
        "id": "fHSI8cIXYG64",
        "colab_type": "text"
      },
      "source": [
        "get shuffled pvalue\n",
        "\n",
        "Each cell’s response vector was shuffled by a random interval from ~20 s before or after its true position\n"
      ]
    },
    {
      "cell_type": "code",
      "metadata": {
        "id": "RkMj7tlTO1AI",
        "colab_type": "code",
        "colab": {}
      },
      "source": [
        "def shuffle_speed_mod(speed_score,speed,fr,shuffn=1000):\n",
        "\n",
        "  a = -20;\n",
        "  b = 20; \n",
        "  r = np.random.randint(a,b,shuffn)\n",
        "\n",
        "  speed_score_shuff = []\n",
        "  for i in range(len(r)):\n",
        "    sc = compute_speed_mod(speed,np.roll(fr,r[i]))\n",
        "    speed_score_shuff.append(sc)\n",
        " \n",
        "  # DOI: 10.2202/1544-6115.1585\n",
        "  shuff_pvalue = (sum(np.abs(speed_score_shuff) > np.abs(speed_score)) + 1) /(len(speed_score_shuff) + 1);\n",
        "\n",
        "  return shuff_pvalue"
      ],
      "execution_count": 64,
      "outputs": []
    },
    {
      "cell_type": "markdown",
      "metadata": {
        "id": "6-w_M1N_YLtk",
        "colab_type": "text"
      },
      "source": [
        "run though every cell"
      ]
    },
    {
      "cell_type": "code",
      "metadata": {
        "id": "EyNhhUIwRFIR",
        "colab_type": "code",
        "colab": {}
      },
      "source": [
        "cells,time = dat['sresp'].shape\n",
        "\n",
        "speed_score = []\n",
        "shuff_pvalue = []\n",
        "for i in range(cells):\n",
        "  r = compute_speed_mod(np.squeeze(dat['run']),dat['sresp'][i,:])\n",
        "  speed_score.append(r)\n",
        "  shuff_pvalue.append(shuffle_speed_mod(r,np.squeeze(dat['run']),dat['sresp'][i,:]))\n",
        "  sys.stdout.write('\\rcurrent cell: %d' %i)\n",
        "  sys.stdout.flush()"
      ],
      "execution_count": null,
      "outputs": []
    },
    {
      "cell_type": "markdown",
      "metadata": {
        "id": "I-5AY9xoAvkh",
        "colab_type": "text"
      },
      "source": [
        "If data was already ran, load it here"
      ]
    },
    {
      "cell_type": "code",
      "metadata": {
        "id": "8OpO1mMY-SwZ",
        "colab_type": "code",
        "colab": {}
      },
      "source": [
        "# np.save('/content/drive/My Drive/nma_data/6163622_v6/speed_score.npy',speed_score)\n",
        "# np.save('/content/drive/My Drive/nma_data/6163622_v6/shuff_pvalue.npy',shuff_pvalue)\n",
        "\n",
        "speed_score = np.load('/content/drive/My Drive/nma_data/6163622_v6/speed_score.npy')\n",
        "shuff_pvalue = np.load('/content/drive/My Drive/nma_data/6163622_v6/shuff_pvalue.npy')"
      ],
      "execution_count": 66,
      "outputs": []
    },
    {
      "cell_type": "code",
      "metadata": {
        "id": "27xiqmoo_N28",
        "colab_type": "code",
        "colab": {
          "base_uri": "https://localhost:8080/",
          "height": 296
        },
        "outputId": "7d11e5ac-4bca-4096-e911-774145f73429"
      },
      "source": [
        "plt.figure()\n",
        "plt.hist(shuff_pvalue,100,color='k')\n",
        "plt.axvline(0.05,color = 'r',label='0.05')\n",
        "plt.xlabel('pvalue')\n",
        "plt.ylabel('cell counts')\n",
        "plt.legend()\n",
        "plt.show()\n",
        "\n",
        "print(sum(shuff_pvalue < 0.05),' of ',cells,' cells are modulated by running speed')"
      ],
      "execution_count": 77,
      "outputs": [
        {
          "output_type": "display_data",
          "data": {
            "image/png": "[encoded data removed]",
            "text/plain": [
              "<Figure size 432x288 with 1 Axes>"
            ]
          },
          "metadata": {
            "tags": [],
            "needs_background": "light"
          }
        },
        {
          "output_type": "stream",
          "text": [
            "3939  of  11983  cells are modulated by running speed\n"
          ],
          "name": "stdout"
        }
      ]
    }
  ]
}