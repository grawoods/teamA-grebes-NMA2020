{
  "nbformat": 4,
  "nbformat_minor": 0,
  "metadata": {
    "colab": {
      "name": "speed_cells.ipynb",
      "provenance": [],
      "toc_visible": true,
      "mount_file_id": "1SCZkqK1eiBD32KiMumfeJLZaRlukHzaY",
      "authorship_tag": "ABX9TyMwau8q7NG4qRQRukm13IOo",
      "include_colab_link": true
    },
    "kernelspec": {
      "name": "python3",
      "display_name": "Python 3"
    }
  },
  "cells": [
    {
      "cell_type": "markdown",
      "metadata": {
        "id": "view-in-github",
        "colab_type": "text"
      },
      "source": [
        "<a href=\"https://colab.research.google.com/github/ryanharvey1/teamA-grebes-NMA2020/blob/master/speed_cells.ipynb\" target=\"_parent\"><img src=\"https://colab.research.google.com/assets/colab-badge.svg\" alt=\"Open In Colab\"/></a>"
      ]
    },
    {
      "cell_type": "markdown",
      "metadata": {
        "id": "sh_PJ3B4XvkO",
        "colab_type": "text"
      },
      "source": [
        "# Find running calcium response correlations\n",
        "\n",
        "This script finds significant linear relationships between calcium response and running speed"
      ]
    },
    {
      "cell_type": "code",
      "metadata": {
        "id": "zqBS03_HNLg-",
        "colab_type": "code",
        "colab": {}
      },
      "source": [
        "import matplotlib.pyplot as plt\n",
        "from sklearn.linear_model import LinearRegression\n",
        "import sys\n",
        "import pandas as pd          "
      ],
      "execution_count": 1,
      "outputs": []
    },
    {
      "cell_type": "markdown",
      "metadata": {
        "id": "gafmFbT_X8aT",
        "colab_type": "text"
      },
      "source": [
        "download data\n",
        "\n",
        "TODO: make general for wider dataset"
      ]
    },
    {
      "cell_type": "code",
      "metadata": {
        "id": "V5G25Vq7Kb2C",
        "colab_type": "code",
        "colab": {
          "base_uri": "https://localhost:8080/",
          "height": 34
        },
        "outputId": "4fe1b6f4-21f2-4d40-e8c6-a8d38b2a1ccd"
      },
      "source": [
        "import os, requests\n",
        "\n",
        "fname = \"stringer_spontaneous.npy\"\n",
        "url = \"https://osf.io/dpqaj/download\"\n",
        "\n",
        "if not os.path.isfile(fname):\n",
        "  try:\n",
        "    r = requests.get(url)\n",
        "  except requests.ConnectionError:\n",
        "    print(\"!!! Failed to download data !!!\")\n",
        "  else:\n",
        "    if r.status_code != requests.codes.ok:\n",
        "      print(\"!!! Failed to download data !!!\")\n",
        "    else:\n",
        "      with open(fname, \"wb\") as fid:\n",
        "        fid.write(r.content)\n",
        "\n",
        "import numpy as np\n",
        "dat = np.load('stringer_spontaneous.npy', allow_pickle=True).item()\n",
        "print(dat.keys())        "
      ],
      "execution_count": 2,
      "outputs": [
        {
          "output_type": "stream",
          "text": [
            "dict_keys(['sresp', 'run', 'beh_svd_time', 'beh_svd_mask', 'stat', 'pupilArea', 'pupilCOM', 'xyz'])\n"
          ],
          "name": "stdout"
        }
      ]
    },
    {
      "cell_type": "markdown",
      "metadata": {
        "id": "741q7jrGYD_P",
        "colab_type": "text"
      },
      "source": [
        "get correlation"
      ]
    },
    {
      "cell_type": "code",
      "metadata": {
        "id": "u9yszVftLcqZ",
        "colab_type": "code",
        "colab": {}
      },
      "source": [
        "def compute_speed_mod(speed,fr):\n",
        "  speed_score = np.corrcoef(speed,fr)[0,1]\n",
        "  return speed_score"
      ],
      "execution_count": 3,
      "outputs": []
    },
    {
      "cell_type": "markdown",
      "metadata": {
        "id": "fHSI8cIXYG64",
        "colab_type": "text"
      },
      "source": [
        "get shuffled pvalue\n",
        "\n",
        "Each cell’s response vector was shuffled by a random interval from ~20 s before or after its true position\n"
      ]
    },
    {
      "cell_type": "code",
      "metadata": {
        "id": "RkMj7tlTO1AI",
        "colab_type": "code",
        "colab": {}
      },
      "source": [
        "def shuffle_speed_mod(speed_score,speed,fr,shuffn=250):\n",
        "  a = -20;\n",
        "  b = 20; \n",
        "  r = np.random.randint(a,b,shuffn)\n",
        "\n",
        "  speed_score_shuff = []\n",
        "  for i in range(len(r)):\n",
        "    sc = compute_speed_mod(speed,np.roll(fr,r[i]))\n",
        "    speed_score_shuff.append(sc)\n",
        " \n",
        "  # DOI: 10.2202/1544-6115.1585\n",
        "  shuff_pvalue = (sum(np.abs(speed_score_shuff) > np.abs(speed_score)) + 1) /(len(speed_score_shuff) + 1);\n",
        "\n",
        "  return shuff_pvalue"
      ],
      "execution_count": 4,
      "outputs": []
    },
    {
      "cell_type": "code",
      "metadata": {
        "id": "OpyyAfNHNeVt",
        "colab_type": "code",
        "colab": {}
      },
      "source": [
        "def get_slope_intercept(speed,fr):\n",
        "\n",
        "  x = speed[np.newaxis].T\n",
        "  y = fr[np.newaxis].T\n",
        "\n",
        "  model = LinearRegression()\n",
        "  model.fit(x,y)\n",
        "\n",
        "  m = model.coef_\n",
        "  b = model.intercept_\n",
        "  return m,b"
      ],
      "execution_count": 5,
      "outputs": []
    },
    {
      "cell_type": "code",
      "metadata": {
        "id": "-891GtX0W77A",
        "colab_type": "code",
        "colab": {}
      },
      "source": [
        "def get_speed_map(speed,fr):\n",
        "  speed_vec = np.arange(min(run),np.percentile(run,95),2)\n",
        "\n",
        "  fr_speed_maps = []\n",
        "  # get mean firing rate in each speed bin\n",
        "  for j in range(len(speed_vec)-1):\n",
        "    start = speed_vec[j]\n",
        "    stop = speed_vec[j+1]\n",
        "\n",
        "    idx = [speed > start] and [speed < stop]\n",
        "    fr_speed_maps.append(np.mean(fr[tuple(idx)]))\n",
        "\n",
        "    # sem.append(np.std(fr(idx)) / np.sqrt(len(fr(idx))))\n",
        "  return fr_speed_maps"
      ],
      "execution_count": 6,
      "outputs": []
    },
    {
      "cell_type": "markdown",
      "metadata": {
        "id": "6-w_M1N_YLtk",
        "colab_type": "text"
      },
      "source": [
        "run though every cell"
      ]
    },
    {
      "cell_type": "code",
      "metadata": {
        "id": "EyNhhUIwRFIR",
        "colab_type": "code",
        "colab": {
          "base_uri": "https://localhost:8080/",
          "height": 34
        },
        "outputId": "ff51c69d-8721-4396-afb3-609120f8dfb4"
      },
      "source": [
        "cells,time = dat['sresp'].shape\n",
        "run = np.squeeze(dat['run'])\n",
        "X = dat['sresp']\n",
        "\n",
        "speed_score = []\n",
        "shuff_pvalue = []\n",
        "m = []\n",
        "b = []\n",
        "speed_map = []\n",
        "\n",
        "for i in range(cells):\n",
        "  # get speed response correlation\n",
        "  speed_score.append(compute_speed_mod(run,X[i,:]))\n",
        "  \n",
        "  # shuffle correlation\n",
        "  shuff_pvalue.append(shuffle_speed_mod(speed_score[-1],run,X[i,:]))\n",
        "  \n",
        "  # linear regression\n",
        "  m_,b_ = get_slope_intercept(run,X[i,:])\n",
        "  m.append(m_)\n",
        "  b.append(b_)\n",
        "\n",
        "  # speed map\n",
        "  speed_map.append((get_speed_map(run,X[i,:])))\n",
        "\n",
        "  # update counter\n",
        "  sys.stdout.write('\\rcurrent cell: %d' %(cells - i))\n",
        "  sys.stdout.flush()\n",
        "\n",
        "d={'speed_score': speed_score, 'shuff_pvalue': shuff_pvalue,\n",
        "          'slope': m, 'intercept': b}\n",
        "df = pd.DataFrame(d)\n"
      ],
      "execution_count": null,
      "outputs": [
        {
          "output_type": "stream",
          "text": [
            "current cell: 8104"
          ],
          "name": "stdout"
        }
      ]
    },
    {
      "cell_type": "code",
      "metadata": {
        "id": "2eDpa4UrsfTO",
        "colab_type": "code",
        "colab": {}
      },
      "source": [
        "df"
      ],
      "execution_count": null,
      "outputs": []
    },
    {
      "cell_type": "markdown",
      "metadata": {
        "id": "I-5AY9xoAvkh",
        "colab_type": "text"
      },
      "source": [
        "If data was already ran, load it here"
      ]
    },
    {
      "cell_type": "code",
      "metadata": {
        "id": "8OpO1mMY-SwZ",
        "colab_type": "code",
        "colab": {}
      },
      "source": [
        "np.save('/content/drive/My Drive/nma_data/6163622_v6/speed_map.npy',speed_map)\n",
        "speed_map = np.load('/content/drive/My Drive/nma_data/6163622_v6/speed_map.npy')\n",
        "\n",
        "df.to_pickle(\"/content/drive/My Drive/nma_data/6163622_v6/speed_cor.pkl\")\n",
        "df = pd.read_pickle(\"/content/drive/My Drive/nma_data/6163622_v6/speed_cor.pkl\")\n",
        "df"
      ],
      "execution_count": null,
      "outputs": []
    },
    {
      "cell_type": "code",
      "metadata": {
        "id": "27xiqmoo_N28",
        "colab_type": "code",
        "colab": {}
      },
      "source": [
        "plt.figure()\n",
        "plt.hist(shuff_pvalue,50,color='k')\n",
        "plt.axvline(0.05,color = 'r',label='0.05')\n",
        "plt.xlabel('pvalue')\n",
        "plt.ylabel('cell counts')\n",
        "plt.legend()\n",
        "plt.show()\n",
        "\n",
        "print(sum(shuff_pvalue < 0.05),' of ',cells,' cells are modulated by running speed')"
      ],
      "execution_count": null,
      "outputs": []
    }
  ]
}