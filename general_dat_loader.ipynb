{
  "nbformat": 4,
  "nbformat_minor": 0,
  "metadata": {
    "colab": {
      "name": "general_dat_loader.ipynb",
      "provenance": [],
      "collapsed_sections": [],
      "mount_file_id": "1qlsVwXPERicZvz1sKiDeRqhsYbEweMnO",
      "authorship_tag": "ABX9TyPVoZaL7+V1laFcRjyiGvvh",
      "include_colab_link": true
    },
    "kernelspec": {
      "name": "python3",
      "display_name": "Python 3"
    }
  },
  "cells": [
    {
      "cell_type": "markdown",
      "metadata": {
        "id": "view-in-github",
        "colab_type": "text"
      },
      "source": [
        "<a href=\"https://colab.research.google.com/github/ryanharvey1/teamA-grebes-NMA2020/blob/master/general_dat_loader.ipynb\" target=\"_parent\"><img src=\"https://colab.research.google.com/assets/colab-badge.svg\" alt=\"Open In Colab\"/></a>"
      ]
    },
    {
      "cell_type": "markdown",
      "metadata": {
        "id": "LYAXWcfDWEdh",
        "colab_type": "text"
      },
      "source": [
        "# Load Stringer data (6163622_v6) \n",
        "\n",
        "download into your google drive from\n",
        "[source](https://figshare.com/articles/dataset/Recordings_of_ten_thousand_neurons_in_visual_cortex_during_spontaneous_behaviors/6163622/6) before running\n",
        "\n",
        "--- \n",
        "\n",
        "### Some assumptions about folder structure...\n",
        "\n",
        "* the data should be within `/content/drive/My Drive/nma_data/6163622_v6`\n",
        "\n",
        "I could make a more general function, but that would take more time.\n",
        "\n",
        "---\n",
        "\n",
        "Ideally, you will add the below section into your notebook and then loop through as is done in the test at the very bottom of this notebook\n",
        "\n",
        "---\n",
        "\n",
        "by Ryan Harvey, 2020\n"
      ]
    },
    {
      "cell_type": "code",
      "metadata": {
        "id": "ayN7cMqDMQMk",
        "colab_type": "code",
        "colab": {}
      },
      "source": [
        "# import packages\n",
        "from scipy.io import loadmat\n",
        "import os, fnmatch\n",
        "from google.colab import drive\n",
        "\n",
        "# mount google drive\n",
        "drive.mount('/content/drive')\n",
        "\n",
        "def find(pattern, path):\n",
        "    result = []\n",
        "    for root, dirs, files in os.walk(path):\n",
        "        for name in files:\n",
        "            if fnmatch.fnmatch(name, pattern):\n",
        "                result.append(os.path.join(root, name))\n",
        "    return result\n",
        "\n",
        "def get_dat(filenum=0,basename='/content/drive/My Drive/nma_data/6163622_v6'):\n",
        "  \"\"\"A def to load the spont data files\n",
        "\n",
        "  inputs:\n",
        "        filenum: 0-8 (there are 9 files)\n",
        "        basename: path name to folder with data\n",
        "\n",
        "  outputs:\n",
        "        dat: dic with the same file structure from the NMA supplied file      \n",
        "  \"\"\"\n",
        "\n",
        "  # find files\n",
        "  files = find('*spont_*.mat',basename)\n",
        "\n",
        "  ## clean up extra files (only keep files with spont_)\n",
        "  files = [i for i in files if '/spont_' in i] \n",
        "\n",
        "  # load the file\n",
        "  dat = loadmat(files[i])\n",
        "\n",
        "  # reasign some variables to fit with other code \n",
        "  dat['sresp'] = dat.pop('Fsp')\n",
        "  dat['run'] = dat['beh']['runSpeed']\n",
        "  dat['experiment'] = dat['db'][0]['expt_name'][0][0][0][0]\n",
        "\n",
        "  # add session name \n",
        "  dat['session_name'] = os.path.basename(files[filenum])\n",
        "\n",
        "  return dat"
      ],
      "execution_count": null,
      "outputs": []
    },
    {
      "cell_type": "markdown",
      "metadata": {
        "id": "AMLuZAbqZxY-",
        "colab_type": "text"
      },
      "source": [
        "# Test example"
      ]
    },
    {
      "cell_type": "code",
      "metadata": {
        "id": "hyhJULjcYaV3",
        "colab_type": "code",
        "colab": {}
      },
      "source": [
        "for i in range(8):\n",
        "\n",
        "  dat = get_dat(i)\n",
        "\n",
        "  print(dat['session_name'])\n",
        "\n",
        "  print(dat['experiment'])\n",
        "\n",
        "  cells,timebins = dat['sresp'].shape\n",
        "  print(cells,' cells')\n",
        "\n",
        "  print(timebins,' timebins')"
      ],
      "execution_count": null,
      "outputs": []
    }
  ]
}