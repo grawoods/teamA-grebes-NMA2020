{
  "nbformat": 4,
  "nbformat_minor": 0,
  "metadata": {
    "colab": {
      "name": "general_dat_loader.ipynb",
      "provenance": [],
      "collapsed_sections": [],
      "mount_file_id": "1qlsVwXPERicZvz1sKiDeRqhsYbEweMnO",
      "authorship_tag": "ABX9TyP8ZaeLWyN8lWIDocaZKe9g",
      "include_colab_link": true
    },
    "kernelspec": {
      "name": "python3",
      "display_name": "Python 3"
    }
  },
  "cells": [
    {
      "cell_type": "markdown",
      "metadata": {
        "id": "view-in-github",
        "colab_type": "text"
      },
      "source": [
        "<a href=\"https://colab.research.google.com/github/grawoods/teamA-grebes-NMA2020/blob/master/general_dat_loader.ipynb\" target=\"_parent\"><img src=\"https://colab.research.google.com/assets/colab-badge.svg\" alt=\"Open In Colab\"/></a>"
      ]
    },
    {
      "cell_type": "markdown",
      "metadata": {
        "id": "LYAXWcfDWEdh",
        "colab_type": "text"
      },
      "source": [
        "# Load Stringer data (6163622_v6) \n",
        "\n",
        "download into your google drive from\n",
        "[source](https://figshare.com/articles/dataset/Recordings_of_ten_thousand_neurons_in_visual_cortex_during_spontaneous_behaviors/6163622/6) before running\n",
        "\n",
        "--- \n",
        "\n",
        "### Some assumptions about folder structure...\n",
        "\n",
        "* the data should be within `/content/drive/My Drive/nma_data/6163622_v6`\n",
        "\n",
        "I could make a more general function, but that would take more time.\n",
        "\n",
        "---\n",
        "\n",
        "Ideally, you will add the below section into your notebook and then loop through as is done in the test at the very bottom of this notebook\n",
        "\n",
        "---\n",
        "\n",
        "by Ryan Harvey, 2020\n"
      ]
    },
    {
      "cell_type": "code",
      "metadata": {
        "id": "ayN7cMqDMQMk",
        "colab_type": "code",
        "colab": {
          "base_uri": "https://localhost:8080/",
          "height": 54
        },
        "outputId": "0de56b99-d125-49e0-f4d5-5fa276446a98"
      },
      "source": [
        "# import packages\n",
        "from scipy.io import loadmat\n",
        "import os, fnmatch\n",
        "from google.colab import drive\n",
        "\n",
        "# mount google drive\n",
        "drive.mount('/content/drive')\n",
        "\n",
        "def find(pattern, path):\n",
        "    result = []\n",
        "    for root, dirs, files in os.walk(path):\n",
        "        for name in files:\n",
        "            if fnmatch.fnmatch(name, pattern):\n",
        "                result.append(os.path.join(root, name))\n",
        "    return result\n",
        "\n",
        "def get_dat(filenum=0,basename='/content/drive/My Drive/nma_data/6163622_v6'):\n",
        "  \"\"\"A def to load the spont data files\n",
        "\n",
        "  inputs:\n",
        "        filenum: 0-8 (there are 9 files)\n",
        "        basename: path name to folder with data\n",
        "\n",
        "  outputs:\n",
        "        dat: dic with the same file structure from the NMA supplied file      \n",
        "  \"\"\"\n",
        "\n",
        "  # find files\n",
        "  files = find('*spont_*.mat',basename)\n",
        "\n",
        "  ## clean up extra files (only keep files with spont_)\n",
        "  files = [i for i in files if '/spont_' in i] \n",
        "\n",
        "  # load the file\n",
        "  dat = loadmat(files[filenum])\n",
        "\n",
        "  # reasign some variables to fit with other code \n",
        "  dat['sresp'] = dat.pop('Fsp')\n",
        "  dat['run'] = np.array(dat['beh']['runSpeed'][0][0], dtype=np.float64)\n",
        "  dat['experiment'] = dat['db'][0]['expt_name'][0][0][0][0]\n",
        "\n",
        "  # add session name \n",
        "  dat['session_name'] = os.path.basename(files[filenum])\n",
        "\n",
        "  return dat"
      ],
      "execution_count": null,
      "outputs": [
        {
          "output_type": "stream",
          "text": [
            "Drive already mounted at /content/drive; to attempt to forcibly remount, call drive.mount(\"/content/drive\", force_remount=True).\n"
          ],
          "name": "stdout"
        }
      ]
    },
    {
      "cell_type": "markdown",
      "metadata": {
        "id": "AMLuZAbqZxY-",
        "colab_type": "text"
      },
      "source": [
        "# Test example"
      ]
    },
    {
      "cell_type": "code",
      "metadata": {
        "id": "hyhJULjcYaV3",
        "colab_type": "code",
        "colab": {
          "base_uri": "https://localhost:8080/",
          "height": 561
        },
        "outputId": "e62292af-68c9-4183-feec-ec2bab9be915"
      },
      "source": [
        "for i in range(8):\n",
        "\n",
        "  dat = get_dat(i)\n",
        "\n",
        "  print(dat['session_name'])\n",
        "\n",
        "  print(dat['experiment'])\n",
        "\n",
        "  cells,timebins = dat['sresp'].shape\n",
        "  print(cells,' cells')\n",
        "\n",
        "  print(timebins,' timebins')"
      ],
      "execution_count": null,
      "outputs": [
        {
          "output_type": "stream",
          "text": [
            "spont_M170717_MP033_2017-08-18.mat\n",
            "spont_black\n",
            "10640  cells\n",
            "10463  timebins\n",
            "spont_M150824_MP019_2016-04-05.mat\n",
            "spont_gray\n",
            "11983  cells\n",
            "21055  timebins\n",
            "spont_M161025_MP030_2016-11-20.mat\n",
            "spont_black\n",
            "10164  cells\n",
            "15761  timebins\n",
            "spont_M170717_MP034_2017-08-25.mat\n",
            "spont_black\n",
            "11267  cells\n",
            "10473  timebins\n",
            "spont_M161025_MP030_2017-06-23.mat\n",
            "spont_black\n",
            "14752  cells\n",
            "24354  timebins\n",
            "spont_M160825_MP027_2016-12-12.mat\n",
            "spont_black\n",
            "11624  cells\n",
            "23259  timebins\n",
            "spont_M161025_MP030_2017-06-16.mat\n",
            "spont_gray\n",
            "15179  cells\n",
            "18136  timebins\n",
            "spont_M170714_MP032_2017-08-04.mat\n",
            "spont_black\n",
            "10523  cells\n",
            "13498  timebins\n"
          ],
          "name": "stdout"
        }
      ]
    }
  ]
}